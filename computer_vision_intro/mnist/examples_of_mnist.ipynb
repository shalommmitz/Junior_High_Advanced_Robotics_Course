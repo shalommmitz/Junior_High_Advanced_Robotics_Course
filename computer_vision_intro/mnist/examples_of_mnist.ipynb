{
  "cells": [
    {
      "cell_type": "markdown",
      "metadata": {
        "id": "2O99vzgKBMHL"
      },
      "source": [
        "## Setup"
      ]
    },
    {
      "cell_type": "code",
      "execution_count": null,
      "metadata": {
        "id": "9j2MpJCRBMHM"
      },
      "outputs": [],
      "source": [
        "import numpy as np\n",
        "import keras\n",
        "from keras import layers"
      ]
    },
    {
      "cell_type": "markdown",
      "metadata": {
        "id": "uanZrKb6F5kv"
      },
      "source": [
        "## Inspect the data"
      ]
    },
    {
      "cell_type": "code",
      "execution_count": null,
      "metadata": {
        "id": "VLCEf_niChy8"
      },
      "outputs": [],
      "source": [
        "dataset = keras.datasets.mnist.load_data()\n",
        "print(f\"Dataset is a {type(dataset)} of length {len(dataset)}\")\n"
      ]
    },
    {
      "cell_type": "code",
      "execution_count": null,
      "metadata": {
        "id": "P6VvK8FfEIdd"
      },
      "outputs": [],
      "source": [
        "train, test = dataset\n",
        "# train = dataset[0]\n",
        "# test = dataset[1]\n",
        "print(f\"train is a {type(train)} of length {len(train)}\")\n",
        "print(f\"test is a {type(test)} of length {len(test)}\")"
      ]
    },
    {
      "cell_type": "code",
      "execution_count": null,
      "metadata": {
        "id": "xsGULk43B80M"
      },
      "outputs": [],
      "source": [
        "x_train, y_train = train\n",
        "x_test, y_test = test\n",
        "print(f\"x_train is a {type(x_train)} of shape {x_train.shape}\")\n",
        "print(f\"y_train is a {type(y_train)} of shape {y_train.shape}\")\n",
        "print(f\"x_test is a {type(x_test)} of shape {x_test.shape}\")\n",
        "print(f\"y_test is a {type(y_test)} of shape {y_test.shape}\")"
      ]
    },
    {
      "cell_type": "code",
      "execution_count": null,
      "metadata": {
        "id": "iHkkt1eOE1lb"
      },
      "outputs": [],
      "source": [
        "for i in range(3):\n",
        "  display(x_train[i])\n",
        "  display(y_train[i])"
      ]
    },
    {
      "cell_type": "markdown",
      "metadata": {
        "id": "RnY_qbndyR6w"
      },
      "source": [
        "Predicting"
      ]
    },
    {
      "cell_type": "code",
      "execution_count": null,
      "metadata": {
        "id": "CyMzkL_MyWeS"
      },
      "outputs": [],
      "source": [
        "# train params\n",
        "batch_size = 128\n",
        "epochs = 15"
      ]
    },
    {
      "cell_type": "markdown",
      "metadata": {
        "id": "eKqZgPq2UO6L"
      },
      "source": [
        "## Naive approch"
      ]
    },
    {
      "cell_type": "code",
      "execution_count": null,
      "metadata": {
        "id": "yZp5LTuyxFt5"
      },
      "outputs": [],
      "source": [
        "x_train, y_train = train\n",
        "x_test, y_test = test"
      ]
    },
    {
      "cell_type": "markdown",
      "metadata": {
        "id": "uqMCC1SZUOzO"
      },
      "source": [
        "### Build the model"
      ]
    },
    {
      "cell_type": "code",
      "execution_count": null,
      "metadata": {
        "id": "zXEYuyGxUAMx"
      },
      "outputs": [],
      "source": [
        "model0 = keras.Sequential(\n",
        "    [\n",
        "        keras.Input(shape=(28,28)),\n",
        "        layers.Flatten(),\n",
        "        layers.Dense(1, activation=\"relu\")\n",
        "    ]\n",
        ")\n",
        "\n",
        "model0.summary()"
      ]
    },
    {
      "cell_type": "markdown",
      "metadata": {
        "id": "1tYRT7yTVIWv"
      },
      "source": [
        "### Train the model"
      ]
    },
    {
      "cell_type": "code",
      "execution_count": null,
      "metadata": {
        "id": "hAxpHiOyVMcN"
      },
      "outputs": [],
      "source": [
        "model0.compile(loss=\"mse\", optimizer=\"adam\", metrics=[\"accuracy\"])\n",
        "\n",
        "model0.fit(x_train, y_train, batch_size=batch_size, epochs=epochs, validation_split=0.1)"
      ]
    },
    {
      "cell_type": "markdown",
      "metadata": {
        "id": "SSr4sCLXcpf8"
      },
      "source": [
        "### Evaluate the trained model"
      ]
    },
    {
      "cell_type": "code",
      "execution_count": null,
      "metadata": {
        "id": "LPk6BRisVUkW"
      },
      "outputs": [],
      "source": [
        "score = model0.evaluate(x_test, y_test, verbose=0)\n",
        "print(\"Test loss:\", score[0])\n",
        "print(\"Test accuracy:\", score[1])"
      ]
    },
    {
      "cell_type": "code",
      "execution_count": null,
      "metadata": {
        "id": "CRR2VZS5VyIh"
      },
      "outputs": [],
      "source": [
        "model0.predict(x_test[:10])"
      ]
    },
    {
      "cell_type": "markdown",
      "metadata": {
        "id": "603bmHNrdAzB"
      },
      "source": [
        "## With data preparetion"
      ]
    },
    {
      "cell_type": "code",
      "execution_count": null,
      "metadata": {
        "id": "NNuJG6MgxIfR"
      },
      "outputs": [],
      "source": [
        "x_train, y_train = train\n",
        "x_test, y_test = test"
      ]
    },
    {
      "cell_type": "markdown",
      "metadata": {
        "id": "wbHelu3FeKsd"
      },
      "source": [
        "### Prepare the data"
      ]
    },
    {
      "cell_type": "code",
      "execution_count": null,
      "metadata": {
        "id": "nHy_GaVYer_3"
      },
      "outputs": [],
      "source": [
        "# Scale images to the [0, 1] range\n",
        "x_train_p = x_train.astype(\"float32\") / 255\n",
        "x_test_p = x_test.astype(\"float32\") / 255"
      ]
    },
    {
      "cell_type": "markdown",
      "metadata": {
        "id": "qQO_PedldAzB"
      },
      "source": [
        "### Build the model"
      ]
    },
    {
      "cell_type": "code",
      "execution_count": null,
      "metadata": {
        "id": "094Q8cJJdAzB"
      },
      "outputs": [],
      "source": [
        "model1 = keras.Sequential(\n",
        "    [\n",
        "        keras.Input(shape=(28,28)),\n",
        "        layers.Flatten(),\n",
        "        layers.Dense(1, activation=\"relu\")\n",
        "    ]\n",
        ")\n",
        "\n",
        "model1.summary()"
      ]
    },
    {
      "cell_type": "markdown",
      "metadata": {
        "id": "5My475-4dAzB"
      },
      "source": [
        "### Train the model"
      ]
    },
    {
      "cell_type": "code",
      "execution_count": null,
      "metadata": {
        "id": "Sklm1BgsdAzB"
      },
      "outputs": [],
      "source": [
        "model1.compile(loss=\"mse\", optimizer=\"adam\", metrics=[\"accuracy\"])\n",
        "\n",
        "model1.fit(x_train_p, y_train, batch_size=batch_size, epochs=epochs, validation_split=0.1)"
      ]
    },
    {
      "cell_type": "markdown",
      "metadata": {
        "id": "BhNnEPcHdAzC"
      },
      "source": [
        "### Evaluate the trained model"
      ]
    },
    {
      "cell_type": "code",
      "execution_count": null,
      "metadata": {
        "id": "RJhVFPoodAzC"
      },
      "outputs": [],
      "source": [
        "score = model1.evaluate(x_test_p, y_test, verbose=0)\n",
        "print(\"Test loss:\", score[0])\n",
        "print(\"Test accuracy:\", score[1])"
      ]
    },
    {
      "cell_type": "code",
      "execution_count": null,
      "metadata": {
        "id": "5P9Ne356dAzC"
      },
      "outputs": [],
      "source": [
        "display(model1.predict(x_test_p[:3]))\n",
        "for i in range(3):\n",
        "  display(x_test[i])"
      ]
    },
    {
      "cell_type": "markdown",
      "metadata": {
        "id": "Ip-mjoQa2IAb"
      },
      "source": [
        "## With categorial output"
      ]
    },
    {
      "cell_type": "code",
      "execution_count": null,
      "metadata": {
        "id": "57LtrHtj2IAc"
      },
      "outputs": [],
      "source": [
        "x_train, y_train = train\n",
        "x_test, y_test = test"
      ]
    },
    {
      "cell_type": "markdown",
      "metadata": {
        "id": "eothFn2w2IAc"
      },
      "source": [
        "### Prepare the data"
      ]
    },
    {
      "cell_type": "code",
      "execution_count": null,
      "metadata": {
        "id": "Aa26yc9j2IAc"
      },
      "outputs": [],
      "source": [
        "num_classes = 10\n",
        "\n",
        "# Scale images to the [0, 1] range\n",
        "x_train_p = x_train.astype(\"float32\") / 255\n",
        "x_test_p = x_test.astype(\"float32\") / 255\n",
        "\n",
        "# convert class vectors to binary class matrices\n",
        "y_train_p = keras.utils.to_categorical(y_train, num_classes)\n",
        "y_test_p = keras.utils.to_categorical(y_test, num_classes)"
      ]
    },
    {
      "cell_type": "markdown",
      "metadata": {
        "id": "zntVl4Mu2IAc"
      },
      "source": [
        "### Build the model"
      ]
    },
    {
      "cell_type": "code",
      "execution_count": null,
      "metadata": {
        "id": "4E7UHZ6N2IAc"
      },
      "outputs": [],
      "source": [
        "model2 = keras.Sequential(\n",
        "    [\n",
        "        keras.Input(shape=(28,28)),\n",
        "        layers.Flatten(),\n",
        "        layers.Dense(num_classes, activation=\"softmax\")\n",
        "    ]\n",
        ")\n",
        "\n",
        "model2.summary()"
      ]
    },
    {
      "cell_type": "markdown",
      "metadata": {
        "id": "Dy_kf29S2IAc"
      },
      "source": [
        "### Train the model"
      ]
    },
    {
      "cell_type": "code",
      "execution_count": null,
      "metadata": {
        "id": "C0WyL9CK2IAc"
      },
      "outputs": [],
      "source": [
        "model2.compile(loss=\"categorical_crossentropy\", optimizer=\"adam\", metrics=[\"accuracy\"])\n",
        "\n",
        "model2.fit(x_train_p, y_train_p, batch_size=batch_size, epochs=epochs, validation_split=0.1)"
      ]
    },
    {
      "cell_type": "markdown",
      "metadata": {
        "id": "XnS5vyIe2IAc"
      },
      "source": [
        "### Evaluate the trained model"
      ]
    },
    {
      "cell_type": "code",
      "execution_count": null,
      "metadata": {
        "id": "NwzNnzuD2IAc"
      },
      "outputs": [],
      "source": [
        "score = model2.evaluate(x_test_p, y_test_p, verbose=0)\n",
        "print(\"Test loss:\", score[0])\n",
        "print(\"Test accuracy:\", score[1])"
      ]
    },
    {
      "cell_type": "code",
      "execution_count": null,
      "metadata": {
        "id": "CYf8ntj5IH9q"
      },
      "outputs": [],
      "source": [
        "raw_prediction = model2.predict(x_test_p[:3])\n",
        "raw_prediction[0]"
      ]
    },
    {
      "cell_type": "code",
      "execution_count": null,
      "metadata": {
        "id": "d84q7MlX2IAd"
      },
      "outputs": [],
      "source": [
        "prediction = np.argmax(raw_prediction, axis=1)\n",
        "display(prediction)\n",
        "for i in range(3):\n",
        "  display(x_test[i])"
      ]
    },
    {
      "cell_type": "markdown",
      "metadata": {
        "id": "5swkkC8dIZk2"
      },
      "source": [
        "## With another layer"
      ]
    },
    {
      "cell_type": "code",
      "execution_count": null,
      "metadata": {
        "id": "5c2XDdtGIZk2"
      },
      "outputs": [],
      "source": [
        "x_train, y_train = train\n",
        "x_test, y_test = test"
      ]
    },
    {
      "cell_type": "markdown",
      "metadata": {
        "id": "pQ1VcIFQIZk2"
      },
      "source": [
        "### Prepare the data"
      ]
    },
    {
      "cell_type": "code",
      "execution_count": null,
      "metadata": {
        "id": "JdJUo4ULIZk2"
      },
      "outputs": [],
      "source": [
        "num_classes = 10\n",
        "\n",
        "# Scale images to the [0, 1] range\n",
        "x_train_p = x_train.astype(\"float32\") / 255\n",
        "x_test_p = x_test.astype(\"float32\") / 255\n",
        "\n",
        "# convert class vectors to binary class matrices\n",
        "y_train_p = keras.utils.to_categorical(y_train, num_classes)\n",
        "y_test_p = keras.utils.to_categorical(y_test, num_classes)"
      ]
    },
    {
      "cell_type": "markdown",
      "metadata": {
        "id": "BS-s5j19IZk3"
      },
      "source": [
        "### Build the model"
      ]
    },
    {
      "cell_type": "code",
      "execution_count": null,
      "metadata": {
        "id": "APAjqM98IZk3"
      },
      "outputs": [],
      "source": [
        "model3 = keras.Sequential(\n",
        "    [\n",
        "        keras.Input(shape=(28,28)),\n",
        "        layers.Flatten(),\n",
        "        layers.Dense(128, activation=\"relu\"),\n",
        "        layers.Dense(num_classes, activation=\"softmax\")\n",
        "    ]\n",
        ")\n",
        "\n",
        "model3.summary()"
      ]
    },
    {
      "cell_type": "markdown",
      "metadata": {
        "id": "A0FZpIhEIZk3"
      },
      "source": [
        "### Train the model"
      ]
    },
    {
      "cell_type": "code",
      "execution_count": null,
      "metadata": {
        "id": "gxIb4FJXIZk3"
      },
      "outputs": [],
      "source": [
        "model3.compile(loss=\"categorical_crossentropy\", optimizer=\"adam\", metrics=[\"accuracy\"])\n",
        "\n",
        "model3.fit(x_train_p, y_train_p, batch_size=batch_size, epochs=epochs, validation_split=0.1)"
      ]
    },
    {
      "cell_type": "markdown",
      "metadata": {
        "id": "xlN9wkMKIZk3"
      },
      "source": [
        "### Evaluate the trained model"
      ]
    },
    {
      "cell_type": "code",
      "execution_count": null,
      "metadata": {
        "id": "2YdRjvwPIZk3"
      },
      "outputs": [],
      "source": [
        "score = model3.evaluate(x_test_p, y_test_p, verbose=0)\n",
        "print(\"Test loss:\", score[0])\n",
        "print(\"Test accuracy:\", score[1])"
      ]
    },
    {
      "cell_type": "code",
      "execution_count": null,
      "metadata": {
        "id": "bfr8iUIfIZk3"
      },
      "outputs": [],
      "source": [
        "raw_prediction = model3.predict(x_test_p[:3])\n",
        "raw_prediction[0]"
      ]
    },
    {
      "cell_type": "code",
      "execution_count": null,
      "metadata": {
        "id": "i46lIV1pIZk3"
      },
      "outputs": [],
      "source": [
        "prediction = np.argmax(raw_prediction, axis=1)\n",
        "display(prediction)\n",
        "for i in range(3):\n",
        "  display(x_test[i])"
      ]
    },
    {
      "cell_type": "markdown",
      "metadata": {
        "id": "lt6Si0pQUWej"
      },
      "source": [
        "## With convolution"
      ]
    },
    {
      "cell_type": "code",
      "execution_count": null,
      "metadata": {
        "id": "g2q3dLfwJ2Wj"
      },
      "outputs": [],
      "source": [
        "x_train, y_train = train\n",
        "x_test, y_test = test"
      ]
    },
    {
      "cell_type": "markdown",
      "metadata": {
        "id": "cFW5lgQ5BMHO"
      },
      "source": [
        "### Prepare the data"
      ]
    },
    {
      "cell_type": "code",
      "execution_count": null,
      "metadata": {
        "id": "xRfOFBuXBMHO"
      },
      "outputs": [],
      "source": [
        "# Model / data parameters\n",
        "num_classes = 10\n",
        "\n",
        "# Scale images to the [0, 1] range\n",
        "x_train_p = x_train.astype(\"float32\") / 255\n",
        "x_test_p = x_test.astype(\"float32\") / 255\n",
        "# Make sure images have shape (28, 28, 1) for the convulation\n",
        "x_train_p = x_train.reshape(-1, 28, 28, 1)\n",
        "x_test_p = x_test.reshape(-1, 28, 28, 1)\n",
        "\n",
        "\n",
        "# convert class vectors to binary class matrices\n",
        "y_trai_p = keras.utils.to_categorical(y_train, num_classes)\n",
        "y_test_p = keras.utils.to_categorical(y_test, num_classes)"
      ]
    },
    {
      "cell_type": "markdown",
      "metadata": {
        "id": "RWnH6R_FBMHQ"
      },
      "source": [
        "### Build the model"
      ]
    },
    {
      "cell_type": "code",
      "execution_count": null,
      "metadata": {
        "id": "tiE_mO8yBMHQ"
      },
      "outputs": [],
      "source": [
        "model4 = keras.Sequential(\n",
        "    [\n",
        "        keras.Input(shape=(28, 28, 1)),\n",
        "        layers.Conv2D(32, kernel_size=(3, 3), activation=\"relu\"),\n",
        "        layers.MaxPooling2D(pool_size=(2, 2)),\n",
        "        layers.Conv2D(64, kernel_size=(3, 3), activation=\"relu\"),\n",
        "        layers.MaxPooling2D(pool_size=(2, 2)),\n",
        "        layers.Flatten(),\n",
        "        layers.Dense(num_classes, activation=\"softmax\"),\n",
        "    ]\n",
        ")\n",
        "\n",
        "model4.summary()"
      ]
    },
    {
      "cell_type": "markdown",
      "metadata": {
        "id": "Fu42O7xwBMHR"
      },
      "source": [
        "### Train the model"
      ]
    },
    {
      "cell_type": "code",
      "execution_count": null,
      "metadata": {
        "id": "4bv06EBWBMHS"
      },
      "outputs": [],
      "source": [
        "model4.compile(loss=\"categorical_crossentropy\", optimizer=\"adam\", metrics=[\"accuracy\"])\n",
        "\n",
        "model4.fit(x_train_p, y_train_p, batch_size=batch_size, epochs=epochs, validation_split=0.1)"
      ]
    },
    {
      "cell_type": "markdown",
      "metadata": {
        "id": "Z6xu6mtdBMHS"
      },
      "source": [
        "### Evaluate the trained model"
      ]
    },
    {
      "cell_type": "code",
      "execution_count": null,
      "metadata": {
        "id": "tsbC9OCZBMHT"
      },
      "outputs": [],
      "source": [
        "score = model4.evaluate(x_test_p, y_test_p, verbose=0)\n",
        "print(\"Test loss:\", score[0])\n",
        "print(\"Test accuracy:\", score[1])"
      ]
    },
    {
      "cell_type": "code",
      "execution_count": null,
      "metadata": {
        "id": "k1ZI09aiQ3vh"
      },
      "outputs": [],
      "source": [
        "raw_prediction = model4.predict(x_test_p)\n",
        "prediction = np.argmax(raw_prediction, axis=1)\n",
        "\n",
        "misclassified_indices = np.where(prediction != y_test)[0]\n",
        "\n",
        "print(\"Misclassified Examples:\")\n",
        "for i in misclassified_indices[:3]:\n",
        "  print(f\"Index: {i}, Predicted: {prediction[i]}, True Label: {y_test[i]}\")\n",
        "  display(x_test[i])"
      ]
    },
    {
      "cell_type": "markdown",
      "metadata": {
        "id": "nnr8s96mQ4Ff"
      },
      "source": [
        "## With dropout"
      ]
    },
    {
      "cell_type": "code",
      "execution_count": null,
      "metadata": {
        "id": "OhhT5d5gQ4Ff"
      },
      "outputs": [],
      "source": [
        "x_train, y_train = train\n",
        "x_test, y_test = test"
      ]
    },
    {
      "cell_type": "markdown",
      "metadata": {
        "id": "SNyRtzXdQ4Ff"
      },
      "source": [
        "### Prepare the data"
      ]
    },
    {
      "cell_type": "code",
      "execution_count": null,
      "metadata": {
        "id": "sJtVfqYLQ4Ff"
      },
      "outputs": [],
      "source": [
        "# Model / data parameters\n",
        "num_classes = 10\n",
        "\n",
        "# Scale images to the [0, 1] range\n",
        "x_train_p = x_train.astype(\"float32\") / 255\n",
        "x_test_p = x_test.astype(\"float32\") / 255\n",
        "# Make sure images have shape (28, 28, 1) for the convulation\n",
        "x_train_p = x_train.reshape(-1, 28, 28, 1)\n",
        "x_test_p = x_test.reshape(-1, 28, 28, 1)\n",
        "\n",
        "\n",
        "# convert class vectors to binary class matrices\n",
        "y_trai_p = keras.utils.to_categorical(y_train, num_classes)\n",
        "y_test_p = keras.utils.to_categorical(y_test, num_classes)"
      ]
    },
    {
      "cell_type": "markdown",
      "metadata": {
        "id": "yas0SnyLQ4Ff"
      },
      "source": [
        "### Build the model"
      ]
    },
    {
      "cell_type": "code",
      "execution_count": null,
      "metadata": {
        "id": "larp6vTmQ4Ff"
      },
      "outputs": [],
      "source": [
        "model5 = keras.Sequential(\n",
        "    [\n",
        "        keras.Input(shape=(28, 28, 1)),\n",
        "        layers.Conv2D(32, kernel_size=(3, 3), activation=\"relu\"),\n",
        "        layers.MaxPooling2D(pool_size=(2, 2)),\n",
        "        layers.Conv2D(64, kernel_size=(3, 3), activation=\"relu\"),\n",
        "        layers.MaxPooling2D(pool_size=(2, 2)),\n",
        "        layers.Flatten(),\n",
        "        layers.Dropout(0.5),\n",
        "        layers.Dense(num_classes, activation=\"softmax\"),\n",
        "    ]\n",
        ")\n",
        "\n",
        "model5.summary()"
      ]
    },
    {
      "cell_type": "markdown",
      "metadata": {
        "id": "jHMuZshgQ4Ff"
      },
      "source": [
        "### Train the model"
      ]
    },
    {
      "cell_type": "code",
      "execution_count": null,
      "metadata": {
        "id": "psaCMLWGQ4Fg"
      },
      "outputs": [],
      "source": [
        "model5.compile(loss=\"categorical_crossentropy\", optimizer=\"adam\", metrics=[\"accuracy\"])\n",
        "\n",
        "model5.fit(x_train_p, y_train_p, batch_size=batch_size, epochs=epochs, validation_split=0.1)"
      ]
    },
    {
      "cell_type": "markdown",
      "metadata": {
        "id": "lmMxOQ11Q4Fg"
      },
      "source": [
        "### Evaluate the trained model"
      ]
    },
    {
      "cell_type": "code",
      "execution_count": null,
      "metadata": {
        "id": "AwwXS427Q4Fg"
      },
      "outputs": [],
      "source": [
        "score = model5.evaluate(x_test_p, y_test_p, verbose=0)\n",
        "print(\"Test loss:\", score[0])\n",
        "print(\"Test accuracy:\", score[1])"
      ]
    },
    {
      "cell_type": "code",
      "execution_count": null,
      "metadata": {
        "id": "qhVQVD_2R4S2"
      },
      "outputs": [],
      "source": [
        "raw_prediction = model5.predict(x_test_p)\n",
        "prediction = np.argmax(raw_prediction, axis=1)\n",
        "\n",
        "misclassified_indices = np.where(prediction != y_test)[0]\n",
        "\n",
        "for i in misclassified_indices[:3]:\n",
        "  print(f\"Index: {i}, Predicted: {prediction[i]}, True Label: {y_test[i]}\")\n",
        "  display(x_test[i])"
      ]
    }
  ],
  "metadata": {
    "accelerator": "GPU",
    "colab": {
      "gpuType": "T4",
      "provenance": [],
      "toc_visible": true
    },
    "kernelspec": {
      "display_name": "Python 3",
      "name": "python3"
    },
    "language_info": {
      "codemirror_mode": {
        "name": "ipython",
        "version": 3
      },
      "file_extension": ".py",
      "mimetype": "text/x-python",
      "name": "python",
      "nbconvert_exporter": "python",
      "pygments_lexer": "ipython3",
      "version": "3.7.0"
    }
  },
  "nbformat": 4,
  "nbformat_minor": 0
}
