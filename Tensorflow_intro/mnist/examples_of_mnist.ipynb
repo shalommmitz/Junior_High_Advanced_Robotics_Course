{
  "cells": [
    {
      "cell_type": "markdown",
      "metadata": {
        "id": "2O99vzgKBMHL"
      },
      "source": [
        "## Setup"
      ]
    },
    {
      "cell_type": "code",
      "execution_count": null,
      "metadata": {
        "id": "9j2MpJCRBMHM"
      },
      "outputs": [],
      "source": [
        "import numpy as np\n",
        "import keras\n",
        "from keras import layers"
      ]
    },
    {
      "cell_type": "markdown",
      "metadata": {
        "id": "uanZrKb6F5kv"
      },
      "source": [
        "## Inspect the data"
      ]
    },
    {
      "cell_type": "code",
      "execution_count": null,
      "metadata": {
        "id": "VLCEf_niChy8"
      },
      "outputs": [],
      "source": [
        "dataset = keras.datasets.mnist.load_data()\n",
        "print(f\"Dataset is a {type(dataset)} of length {len(dataset)}\")\n"
      ]
    },
    {
      "cell_type": "code",
      "execution_count": null,
      "metadata": {
        "id": "P6VvK8FfEIdd"
      },
      "outputs": [],
      "source": [
        "train, test = dataset\n",
        "# train = dataset[0]\n",
        "# test = dataset[1]\n",
        "print(f\"train is a {type(train)} of length {len(train)}\")\n",
        "print(f\"test is a {type(test)} of length {len(test)}\")"
      ]
    },
    {
      "cell_type": "code",
      "execution_count": null,
      "metadata": {
        "id": "xsGULk43B80M"
      },
      "outputs": [],
      "source": [
        "x_train, y_train = train\n",
        "x_test, y_test = test\n",
        "print(f\"x_train is a {type(x_train)} of shape {x_train.shape}\")\n",
        "print(f\"y_train is a {type(y_train)} of shape {y_train.shape}\")\n",
        "print(f\"x_test is a {type(x_test)} of shape {x_test.shape}\")\n",
        "print(f\"y_test is a {type(y_test)} of shape {y_test.shape}\")"
      ]
    },
    {
      "cell_type": "code",
      "execution_count": null,
      "metadata": {
        "id": "iHkkt1eOE1lb"
      },
      "outputs": [],
      "source": [
        "for i in range(3):\n",
        "  display(x_train[i])\n",
        "  display(y_train[i])"
      ]
    },
    {
      "cell_type": "markdown",
      "metadata": {
        "id": "RnY_qbndyR6w"
      },
      "source": [
        "Predicting"
      ]
    },
    {
      "cell_type": "code",
      "execution_count": null,
      "metadata": {
        "id": "CyMzkL_MyWeS"
      },
      "outputs": [],
      "source": [
        "# train params\n",
        "batch_size = 128\n",
        "epochs = 15"
      ]
    },
    {
      "cell_type": "markdown",
      "metadata": {
        "id": "eKqZgPq2UO6L"
      },
      "source": [
        "## Naive approch"
      ]
    },
    {
      "cell_type": "code",
      "execution_count": null,
      "metadata": {
        "id": "yZp5LTuyxFt5"
      },
      "outputs": [],
      "source": [
        "x_train, y_train = train\n",
        "x_test, y_test = test"
      ]
    },
    {
      "cell_type": "markdown",
      "metadata": {
        "id": "uqMCC1SZUOzO"
      },
      "source": [
        "### Build the model"
      ]
    },
    {
      "cell_type": "code",
      "execution_count": null,
      "metadata": {
        "id": "zXEYuyGxUAMx"
      },
      "outputs": [],
      "source": [
        "model0 = keras.Sequential(\n",
        "    [\n",
        "        keras.Input(shape=(28,28)),\n",
        "        layers.Flatten(),\n",
        "        layers.Dense(1, activation=\"relu\")\n",
        "    ]\n",
        ")\n",
        "\n",
        "model0.summary()"
      ]
    },
    {
      "cell_type": "markdown",
      "metadata": {
        "id": "1tYRT7yTVIWv"
      },
      "source": [
        "### Train the model"
      ]
    },
    {
      "cell_type": "code",
      "execution_count": null,
      "metadata": {
        "id": "hAxpHiOyVMcN"
      },
      "outputs": [],
      "source": [
        "model0.compile(loss=\"mse\", optimizer=\"adam\", metrics=[\"accuracy\"])\n",
        "\n",
        "model0.fit(x_train, y_train, batch_size=batch_size, epochs=epochs, validation_split=0.1)"
      ]
    },
    {
      "cell_type": "markdown",
      "metadata": {
        "id": "SSr4sCLXcpf8"
      },
      "source": [
        "### Evaluate the trained model"
      ]
    },
    {
      "cell_type": "code",
      "execution_count": null,
      "metadata": {
        "id": "LPk6BRisVUkW"
      },
      "outputs": [],
      "source": [
        "score = model0.evaluate(x_test, y_test, verbose=0)\n",
        "print(\"Test loss:\", score[0])\n",
        "print(\"Test accuracy:\", score[1])"
      ]
    },
    {
      "cell_type": "code",
      "execution_count": null,
      "metadata": {
        "id": "CRR2VZS5VyIh"
      },
      "outputs": [],
      "source": [
        "model0.predict(x_test[:10])"
      ]
    },
    {
      "cell_type": "markdown",
      "metadata": {
        "id": "603bmHNrdAzB"
      },
      "source": [
        "## With data preparetion"
      ]
    },
    {
      "cell_type": "code",
      "execution_count": null,
      "metadata": {
        "id": "NNuJG6MgxIfR"
      },
      "outputs": [],
      "source": [
        "x_train, y_train = train\n",
        "x_test, y_test = test"
      ]
    },
    {
      "cell_type": "markdown",
      "metadata": {
        "id": "wbHelu3FeKsd"
      },
      "source": [
        "### Prepare the data"
      ]
    },
    {
      "cell_type": "code",
      "execution_count": null,
      "metadata": {
        "id": "nHy_GaVYer_3"
      },
      "outputs": [],
      "source": [
        "# Scale images to the [0, 1] range\n",
        "x_train_p = x_train.astype(\"float32\") / 255\n",
        "x_test_p = x_test.astype(\"float32\") / 255"
      ]
    },
    {
      "cell_type": "markdown",
      "metadata": {
        "id": "qQO_PedldAzB"
      },
      "source": [
        "### Build the model"
      ]
    },
    {
      "cell_type": "code",
      "execution_count": null,
      "metadata": {
        "id": "094Q8cJJdAzB"
      },
      "outputs": [],
      "source": [
        "model1 = keras.Sequential(\n",
        "    [\n",
        "        keras.Input(shape=(28,28)),\n",
        "        layers.Flatten(),\n",
        "        layers.Dense(1, activation=\"relu\")\n",
        "    ]\n",
        ")\n",
        "\n",
        "model1.summary()"
      ]
    },
    {
      "cell_type": "markdown",
      "metadata": {
        "id": "5My475-4dAzB"
      },
      "source": [
        "### Train the model"
      ]
    },
    {
      "cell_type": "code",
      "execution_count": null,
      "metadata": {
        "id": "Sklm1BgsdAzB"
      },
      "outputs": [],
      "source": [
        "model1.compile(loss=\"mse\", optimizer=\"adam\", metrics=[\"accuracy\"])\n",
        "\n",
        "model1.fit(x_train_p, y_train, batch_size=batch_size, epochs=epochs, validation_split=0.1)"
      ]
    },
    {
      "cell_type": "markdown",
      "metadata": {
        "id": "BhNnEPcHdAzC"
      },
      "source": [
        "### Evaluate the trained model"
      ]
    },
    {
      "cell_type": "code",
      "execution_count": null,
      "metadata": {
        "id": "RJhVFPoodAzC"
      },
      "outputs": [],
      "source": [
        "score = model1.evaluate(x_test_p, y_test, verbose=0)\n",
        "print(\"Test loss:\", score[0])\n",
        "print(\"Test accuracy:\", score[1])"
      ]
    },
    {
      "cell_type": "code",
      "execution_count": null,
      "metadata": {
        "id": "5P9Ne356dAzC"
      },
      "outputs": [],
      "source": [
        "display(model1.predict(x_test_p[:3]))\n",
        "for i in range(3):\n",
        "  display(x_test[i])"
      ]
    }
  ],
  "metadata": {
    "accelerator": "GPU",
    "colab": {
      "gpuType": "T4",
      "provenance": [],
      "toc_visible": true
    },
    "kernelspec": {
      "display_name": "Python 3",
      "name": "python3"
    },
    "language_info": {
      "codemirror_mode": {
        "name": "ipython",
        "version": 3
      },
      "file_extension": ".py",
      "mimetype": "text/x-python",
      "name": "python",
      "nbconvert_exporter": "python",
      "pygments_lexer": "ipython3",
      "version": "3.7.0"
    }
  },
  "nbformat": 4,
  "nbformat_minor": 0
}
