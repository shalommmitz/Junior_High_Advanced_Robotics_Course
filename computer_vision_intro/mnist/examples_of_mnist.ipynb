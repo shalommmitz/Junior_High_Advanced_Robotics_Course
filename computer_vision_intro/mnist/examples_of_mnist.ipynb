{
  "cells": [
    {
      "cell_type": "markdown",
      "metadata": {
        "id": "2O99vzgKBMHL"
      },
      "source": [
        "## Setup"
      ]
    },
    {
      "cell_type": "code",
      "execution_count": null,
      "metadata": {
        "id": "9j2MpJCRBMHM"
      },
      "outputs": [],
      "source": [
        "import numpy as np\n",
        "import keras\n",
        "from keras import layers"
      ]
    },
    {
      "cell_type": "markdown",
      "source": [
        "## Inspect the data"
      ],
      "metadata": {
        "id": "uanZrKb6F5kv"
      }
    },
    {
      "cell_type": "code",
      "source": [
        "dataset = keras.datasets.mnist.load_data()\n",
        "print(f\"Dataset is a {type(dataset)} of length {len(dataset)}\")\n"
      ],
      "metadata": {
        "id": "VLCEf_niChy8"
      },
      "execution_count": null,
      "outputs": []
    },
    {
      "cell_type": "code",
      "source": [
        "train, test = dataset\n",
        "# train = dataset[0]\n",
        "# test = dataset[1]\n",
        "print(f\"train is a {type(train)} of length {len(train)}\")\n",
        "print(f\"test is a {type(test)} of length {len(test)}\")"
      ],
      "metadata": {
        "id": "P6VvK8FfEIdd"
      },
      "execution_count": null,
      "outputs": []
    },
    {
      "cell_type": "code",
      "source": [
        "x_train, y_train = train\n",
        "x_test, y_test = test\n",
        "print(f\"x_train is a {type(x_train)} of shape {x_train.shape}\")\n",
        "print(f\"y_train is a {type(y_train)} of shape {y_train.shape}\")\n",
        "print(f\"x_test is a {type(x_test)} of shape {x_test.shape}\")\n",
        "print(f\"y_test is a {type(y_test)} of shape {y_test.shape}\")"
      ],
      "metadata": {
        "id": "xsGULk43B80M"
      },
      "execution_count": null,
      "outputs": []
    },
    {
      "cell_type": "code",
      "source": [
        "for i in range(3):\n",
        "  display(x_train[i])\n",
        "  display(y_train[i])"
      ],
      "metadata": {
        "id": "iHkkt1eOE1lb"
      },
      "execution_count": null,
      "outputs": []
    },
    {
      "cell_type": "markdown",
      "source": [
        "Predicting"
      ],
      "metadata": {
        "id": "RnY_qbndyR6w"
      }
    },
    {
      "cell_type": "code",
      "source": [
        "# train params\n",
        "batch_size = 128\n",
        "epochs = 15"
      ],
      "metadata": {
        "id": "CyMzkL_MyWeS"
      },
      "execution_count": null,
      "outputs": []
    },
    {
      "cell_type": "markdown",
      "source": [
        "## Naive approch"
      ],
      "metadata": {
        "id": "eKqZgPq2UO6L"
      }
    },
    {
      "cell_type": "code",
      "source": [
        "x_train, y_train = train\n",
        "x_test, y_test = test"
      ],
      "metadata": {
        "id": "yZp5LTuyxFt5"
      },
      "execution_count": null,
      "outputs": []
    },
    {
      "cell_type": "markdown",
      "source": [
        "### Build the model"
      ],
      "metadata": {
        "id": "uqMCC1SZUOzO"
      }
    },
    {
      "cell_type": "code",
      "source": [
        "model0 = keras.Sequential(\n",
        "    [\n",
        "        keras.Input(shape=(28,28)),\n",
        "        layers.Flatten(),\n",
        "        layers.Dense(1, activation=\"relu\")\n",
        "    ]\n",
        ")\n",
        "\n",
        "model0.summary()"
      ],
      "metadata": {
        "id": "zXEYuyGxUAMx"
      },
      "execution_count": null,
      "outputs": []
    },
    {
      "cell_type": "markdown",
      "metadata": {
        "id": "1tYRT7yTVIWv"
      },
      "source": [
        "### Train the model"
      ]
    },
    {
      "cell_type": "code",
      "source": [
        "model0.compile(loss=\"mse\", optimizer=\"adam\", metrics=[\"accuracy\"])\n",
        "\n",
        "model0.fit(x_train, y_train, batch_size=batch_size, epochs=epochs, validation_split=0.1)"
      ],
      "metadata": {
        "id": "hAxpHiOyVMcN"
      },
      "execution_count": null,
      "outputs": []
    },
    {
      "cell_type": "markdown",
      "source": [
        "### Evaluate the trained model"
      ],
      "metadata": {
        "id": "SSr4sCLXcpf8"
      }
    },
    {
      "cell_type": "code",
      "source": [
        "score = model0.evaluate(x_test, y_test, verbose=0)\n",
        "print(\"Test loss:\", score[0])\n",
        "print(\"Test accuracy:\", score[1])"
      ],
      "metadata": {
        "id": "LPk6BRisVUkW"
      },
      "execution_count": null,
      "outputs": []
    },
    {
      "cell_type": "code",
      "source": [
        "model0.predict(x_test[:10])"
      ],
      "metadata": {
        "id": "CRR2VZS5VyIh"
      },
      "execution_count": null,
      "outputs": []
    },
    {
      "cell_type": "markdown",
      "source": [
        "## With data preparetion"
      ],
      "metadata": {
        "id": "603bmHNrdAzB"
      }
    },
    {
      "cell_type": "code",
      "source": [
        "x_train, y_train = train\n",
        "x_test, y_test = test"
      ],
      "metadata": {
        "id": "NNuJG6MgxIfR"
      },
      "execution_count": null,
      "outputs": []
    },
    {
      "cell_type": "markdown",
      "source": [
        "### Prepare the data"
      ],
      "metadata": {
        "id": "wbHelu3FeKsd"
      }
    },
    {
      "cell_type": "code",
      "source": [
        "# Scale images to the [0, 1] range\n",
        "x_train_p = x_train.astype(\"float32\") / 255\n",
        "x_test_p = x_test.astype(\"float32\") / 255"
      ],
      "metadata": {
        "id": "nHy_GaVYer_3"
      },
      "execution_count": null,
      "outputs": []
    },
    {
      "cell_type": "markdown",
      "source": [
        "### Build the model"
      ],
      "metadata": {
        "id": "qQO_PedldAzB"
      }
    },
    {
      "cell_type": "code",
      "source": [
        "model1 = keras.Sequential(\n",
        "    [\n",
        "        keras.Input(shape=(28,28)),\n",
        "        layers.Flatten(),\n",
        "        layers.Dense(1, activation=\"relu\")\n",
        "    ]\n",
        ")\n",
        "\n",
        "model1.summary()"
      ],
      "metadata": {
        "id": "094Q8cJJdAzB"
      },
      "execution_count": null,
      "outputs": []
    },
    {
      "cell_type": "markdown",
      "metadata": {
        "id": "5My475-4dAzB"
      },
      "source": [
        "### Train the model"
      ]
    },
    {
      "cell_type": "code",
      "source": [
        "model1.compile(loss=\"mse\", optimizer=\"adam\", metrics=[\"accuracy\"])\n",
        "\n",
        "model1.fit(x_train_p, y_train, batch_size=batch_size, epochs=epochs, validation_split=0.1)"
      ],
      "metadata": {
        "id": "Sklm1BgsdAzB"
      },
      "execution_count": null,
      "outputs": []
    },
    {
      "cell_type": "markdown",
      "source": [
        "### Evaluate the trained model"
      ],
      "metadata": {
        "id": "BhNnEPcHdAzC"
      }
    },
    {
      "cell_type": "code",
      "source": [
        "score = model1.evaluate(x_test_p, y_test, verbose=0)\n",
        "print(\"Test loss:\", score[0])\n",
        "print(\"Test accuracy:\", score[1])"
      ],
      "metadata": {
        "id": "RJhVFPoodAzC"
      },
      "execution_count": null,
      "outputs": []
    },
    {
      "cell_type": "code",
      "source": [
        "display(model1.predict(x_test_p[:3]))\n",
        "for i in range(3):\n",
        "  display(x_test[i])"
      ],
      "metadata": {
        "id": "5P9Ne356dAzC"
      },
      "execution_count": null,
      "outputs": []
    },
    {
      "cell_type": "markdown",
      "source": [
        "## With categorial output"
      ],
      "metadata": {
        "id": "Ip-mjoQa2IAb"
      }
    },
    {
      "cell_type": "code",
      "source": [
        "x_train, y_train = train\n",
        "x_test, y_test = test"
      ],
      "metadata": {
        "id": "57LtrHtj2IAc"
      },
      "execution_count": null,
      "outputs": []
    },
    {
      "cell_type": "markdown",
      "source": [
        "### Prepare the data"
      ],
      "metadata": {
        "id": "eothFn2w2IAc"
      }
    },
    {
      "cell_type": "code",
      "source": [
        "num_classes = 10\n",
        "\n",
        "# Scale images to the [0, 1] range\n",
        "x_train_p = x_train.astype(\"float32\") / 255\n",
        "x_test_p = x_test.astype(\"float32\") / 255\n",
        "\n",
        "# convert class vectors to binary class matrices\n",
        "y_train_p = keras.utils.to_categorical(y_train, num_classes)\n",
        "y_test_p = keras.utils.to_categorical(y_test, num_classes)"
      ],
      "metadata": {
        "id": "Aa26yc9j2IAc"
      },
      "execution_count": null,
      "outputs": []
    },
    {
      "cell_type": "markdown",
      "source": [
        "### Build the model"
      ],
      "metadata": {
        "id": "zntVl4Mu2IAc"
      }
    },
    {
      "cell_type": "code",
      "source": [
        "model3 = keras.Sequential(\n",
        "    [\n",
        "        keras.Input(shape=(28,28)),\n",
        "        layers.Flatten(),\n",
        "        layers.Dense(num_classes, activation=\"softmax\")\n",
        "    ]\n",
        ")\n",
        "\n",
        "model3.summary()"
      ],
      "metadata": {
        "id": "4E7UHZ6N2IAc"
      },
      "execution_count": null,
      "outputs": []
    },
    {
      "cell_type": "markdown",
      "metadata": {
        "id": "Dy_kf29S2IAc"
      },
      "source": [
        "### Train the model"
      ]
    },
    {
      "cell_type": "code",
      "source": [
        "model3.compile(loss=\"categorical_crossentropy\", optimizer=\"adam\", metrics=[\"accuracy\"])\n",
        "\n",
        "model3.fit(x_train_p, y_train_p, batch_size=batch_size, epochs=epochs, validation_split=0.1)"
      ],
      "metadata": {
        "id": "C0WyL9CK2IAc"
      },
      "execution_count": null,
      "outputs": []
    },
    {
      "cell_type": "markdown",
      "source": [
        "### Evaluate the trained model"
      ],
      "metadata": {
        "id": "XnS5vyIe2IAc"
      }
    },
    {
      "cell_type": "code",
      "source": [
        "score = model3.evaluate(x_test_p, y_test_p, verbose=0)\n",
        "print(\"Test loss:\", score[0])\n",
        "print(\"Test accuracy:\", score[1])"
      ],
      "metadata": {
        "id": "NwzNnzuD2IAc"
      },
      "execution_count": null,
      "outputs": []
    },
    {
      "cell_type": "code",
      "source": [
        "raw_prediction = model3.predict(x_test_p[:3])\n",
        "raw_prediction[0]"
      ],
      "metadata": {
        "id": "CYf8ntj5IH9q"
      },
      "execution_count": null,
      "outputs": []
    },
    {
      "cell_type": "code",
      "source": [
        "prediction = np.argmax(raw_prediction, axis=1)\n",
        "display(prediction)\n",
        "for i in range(3):\n",
        "  display(x_test[i])"
      ],
      "metadata": {
        "id": "d84q7MlX2IAd"
      },
      "execution_count": null,
      "outputs": []
    },
    {
      "cell_type": "markdown",
      "source": [
        "## With another layer"
      ],
      "metadata": {
        "id": "5swkkC8dIZk2"
      }
    },
    {
      "cell_type": "code",
      "source": [
        "x_train, y_train = train\n",
        "x_test, y_test = test"
      ],
      "metadata": {
        "id": "5c2XDdtGIZk2"
      },
      "execution_count": null,
      "outputs": []
    },
    {
      "cell_type": "markdown",
      "source": [
        "### Prepare the data"
      ],
      "metadata": {
        "id": "pQ1VcIFQIZk2"
      }
    },
    {
      "cell_type": "code",
      "source": [
        "num_classes = 10\n",
        "\n",
        "# Scale images to the [0, 1] range\n",
        "x_train_p = x_train.astype(\"float32\") / 255\n",
        "x_test_p = x_test.astype(\"float32\") / 255\n",
        "\n",
        "# convert class vectors to binary class matrices\n",
        "y_train_p = keras.utils.to_categorical(y_train, num_classes)\n",
        "y_test_p = keras.utils.to_categorical(y_test, num_classes)"
      ],
      "metadata": {
        "id": "JdJUo4ULIZk2"
      },
      "execution_count": null,
      "outputs": []
    },
    {
      "cell_type": "markdown",
      "source": [
        "### Build the model"
      ],
      "metadata": {
        "id": "BS-s5j19IZk3"
      }
    },
    {
      "cell_type": "code",
      "source": [
        "model4 = keras.Sequential(\n",
        "    [\n",
        "        keras.Input(shape=(28,28)),\n",
        "        layers.Flatten(),\n",
        "        layers.Dense(128, activation=\"relu\"),\n",
        "        layers.Dense(num_classes, activation=\"softmax\")\n",
        "    ]\n",
        ")\n",
        "\n",
        "model4.summary()"
      ],
      "metadata": {
        "id": "APAjqM98IZk3"
      },
      "execution_count": null,
      "outputs": []
    },
    {
      "cell_type": "markdown",
      "metadata": {
        "id": "A0FZpIhEIZk3"
      },
      "source": [
        "### Train the model"
      ]
    },
    {
      "cell_type": "code",
      "source": [
        "model4.compile(loss=\"categorical_crossentropy\", optimizer=\"adam\", metrics=[\"accuracy\"])\n",
        "\n",
        "model4.fit(x_train_p, y_train_p, batch_size=batch_size, epochs=epochs, validation_split=0.1)"
      ],
      "metadata": {
        "id": "gxIb4FJXIZk3"
      },
      "execution_count": null,
      "outputs": []
    },
    {
      "cell_type": "markdown",
      "source": [
        "### Evaluate the trained model"
      ],
      "metadata": {
        "id": "xlN9wkMKIZk3"
      }
    },
    {
      "cell_type": "code",
      "source": [
        "score = model4.evaluate(x_test_p, y_test_p, verbose=0)\n",
        "print(\"Test loss:\", score[0])\n",
        "print(\"Test accuracy:\", score[1])"
      ],
      "metadata": {
        "id": "2YdRjvwPIZk3"
      },
      "execution_count": null,
      "outputs": []
    },
    {
      "cell_type": "code",
      "source": [
        "raw_prediction = model4.predict(x_test_p[:3])\n",
        "raw_prediction[0]"
      ],
      "metadata": {
        "id": "bfr8iUIfIZk3"
      },
      "execution_count": null,
      "outputs": []
    },
    {
      "cell_type": "code",
      "source": [
        "prediction = np.argmax(raw_prediction, axis=1)\n",
        "display(prediction)\n",
        "for i in range(3):\n",
        "  display(x_test[i])"
      ],
      "metadata": {
        "id": "i46lIV1pIZk3"
      },
      "execution_count": null,
      "outputs": []
    },
    {
      "cell_type": "markdown",
      "source": [
        "## With convolution"
      ],
      "metadata": {
        "id": "lt6Si0pQUWej"
      }
    },
    {
      "cell_type": "code",
      "source": [
        "x_train, y_train = train\n",
        "x_test, y_test = test"
      ],
      "metadata": {
        "id": "g2q3dLfwJ2Wj"
      },
      "execution_count": null,
      "outputs": []
    },
    {
      "cell_type": "markdown",
      "metadata": {
        "id": "cFW5lgQ5BMHO"
      },
      "source": [
        "### Prepare the data"
      ]
    },
    {
      "cell_type": "code",
      "execution_count": null,
      "metadata": {
        "id": "xRfOFBuXBMHO"
      },
      "outputs": [],
      "source": [
        "# Model / data parameters\n",
        "num_classes = 10\n",
        "\n",
        "# Scale images to the [0, 1] range\n",
        "x_train_p = x_train.astype(\"float32\") / 255\n",
        "x_test_p = x_test.astype(\"float32\") / 255\n",
        "# Make sure images have shape (28, 28, 1) for the convulation\n",
        "x_train_p = x_train.reshape(-1, 28, 28, 1)\n",
        "x_test_p = x_test.reshape(-1, 28, 28, 1)\n",
        "\n",
        "\n",
        "# convert class vectors to binary class matrices\n",
        "y_trai_p = keras.utils.to_categorical(y_train, num_classes)\n",
        "y_test_p = keras.utils.to_categorical(y_test, num_classes)"
      ]
    },
    {
      "cell_type": "markdown",
      "metadata": {
        "id": "RWnH6R_FBMHQ"
      },
      "source": [
        "### Build the model"
      ]
    },
    {
      "cell_type": "code",
      "execution_count": null,
      "metadata": {
        "id": "tiE_mO8yBMHQ"
      },
      "outputs": [],
      "source": [
        "model5 = keras.Sequential(\n",
        "    [\n",
        "        keras.Input(shape=(28, 28, 1)),\n",
        "        layers.Conv2D(32, kernel_size=(3, 3), activation=\"relu\"),\n",
        "        layers.MaxPooling2D(pool_size=(2, 2)),\n",
        "        layers.Conv2D(64, kernel_size=(3, 3), activation=\"relu\"),\n",
        "        layers.MaxPooling2D(pool_size=(2, 2)),\n",
        "        layers.Flatten(),\n",
        "        layers.Dense(num_classes, activation=\"softmax\"),\n",
        "    ]\n",
        ")\n",
        "\n",
        "model5.summary()"
      ]
    },
    {
      "cell_type": "markdown",
      "metadata": {
        "id": "Fu42O7xwBMHR"
      },
      "source": [
        "### Train the model"
      ]
    },
    {
      "cell_type": "code",
      "execution_count": null,
      "metadata": {
        "id": "4bv06EBWBMHS"
      },
      "outputs": [],
      "source": [
        "model5.compile(loss=\"categorical_crossentropy\", optimizer=\"adam\", metrics=[\"accuracy\"])\n",
        "\n",
        "model5.fit(x_train_p, y_train_p, batch_size=batch_size, epochs=epochs, validation_split=0.1)"
      ]
    },
    {
      "cell_type": "markdown",
      "metadata": {
        "id": "Z6xu6mtdBMHS"
      },
      "source": [
        "### Evaluate the trained model"
      ]
    },
    {
      "cell_type": "code",
      "execution_count": null,
      "metadata": {
        "id": "tsbC9OCZBMHT"
      },
      "outputs": [],
      "source": [
        "score = model5.evaluate(x_test_p, y_test_p, verbose=0)\n",
        "print(\"Test loss:\", score[0])\n",
        "print(\"Test accuracy:\", score[1])"
      ]
    },
    {
      "cell_type": "code",
      "source": [
        "raw_prediction = model5.predict(x_test_p)\n",
        "prediction = np.argmax(raw_prediction, axis=1)\n",
        "\n",
        "misclassified_indices = np.where(prediction != y_test)[0]\n",
        "\n",
        "print(\"Misclassified Examples:\")\n",
        "for i in misclassified_indices[:3]:\n",
        "  print(f\"Index: {i}, Predicted: {prediction[i]}, True Label: {y_test[i]}\")\n",
        "  display(x_test[i])"
      ],
      "metadata": {
        "id": "k1ZI09aiQ3vh"
      },
      "execution_count": null,
      "outputs": []
    },
    {
      "cell_type": "markdown",
      "source": [
        "## With dropout"
      ],
      "metadata": {
        "id": "nnr8s96mQ4Ff"
      }
    },
    {
      "cell_type": "code",
      "source": [
        "x_train, y_train = train\n",
        "x_test, y_test = test"
      ],
      "metadata": {
        "id": "OhhT5d5gQ4Ff"
      },
      "execution_count": null,
      "outputs": []
    },
    {
      "cell_type": "markdown",
      "metadata": {
        "id": "SNyRtzXdQ4Ff"
      },
      "source": [
        "### Prepare the data"
      ]
    },
    {
      "cell_type": "code",
      "execution_count": null,
      "metadata": {
        "id": "sJtVfqYLQ4Ff"
      },
      "outputs": [],
      "source": [
        "# Model / data parameters\n",
        "num_classes = 10\n",
        "\n",
        "# Scale images to the [0, 1] range\n",
        "x_train_p = x_train.astype(\"float32\") / 255\n",
        "x_test_p = x_test.astype(\"float32\") / 255\n",
        "# Make sure images have shape (28, 28, 1) for the convulation\n",
        "x_train_p = x_train.reshape(-1, 28, 28, 1)\n",
        "x_test_p = x_test.reshape(-1, 28, 28, 1)\n",
        "\n",
        "\n",
        "# convert class vectors to binary class matrices\n",
        "y_trai_p = keras.utils.to_categorical(y_train, num_classes)\n",
        "y_test_p = keras.utils.to_categorical(y_test, num_classes)"
      ]
    },
    {
      "cell_type": "markdown",
      "metadata": {
        "id": "yas0SnyLQ4Ff"
      },
      "source": [
        "### Build the model"
      ]
    },
    {
      "cell_type": "code",
      "execution_count": null,
      "metadata": {
        "id": "larp6vTmQ4Ff"
      },
      "outputs": [],
      "source": [
        "model6 = keras.Sequential(\n",
        "    [\n",
        "        keras.Input(shape=(28, 28, 1)),\n",
        "        layers.Conv2D(32, kernel_size=(3, 3), activation=\"relu\"),\n",
        "        layers.MaxPooling2D(pool_size=(2, 2)),\n",
        "        layers.Conv2D(64, kernel_size=(3, 3), activation=\"relu\"),\n",
        "        layers.MaxPooling2D(pool_size=(2, 2)),\n",
        "        layers.Flatten(),\n",
        "        layers.Dropout(0.5),\n",
        "        layers.Dense(num_classes, activation=\"softmax\"),\n",
        "    ]\n",
        ")\n",
        "\n",
        "model6.summary()"
      ]
    },
    {
      "cell_type": "markdown",
      "metadata": {
        "id": "jHMuZshgQ4Ff"
      },
      "source": [
        "### Train the model"
      ]
    },
    {
      "cell_type": "code",
      "execution_count": null,
      "metadata": {
        "id": "psaCMLWGQ4Fg"
      },
      "outputs": [],
      "source": [
        "model6.compile(loss=\"categorical_crossentropy\", optimizer=\"adam\", metrics=[\"accuracy\"])\n",
        "\n",
        "model6.fit(x_train_p, y_train_p, batch_size=batch_size, epochs=epochs, validation_split=0.1)"
      ]
    },
    {
      "cell_type": "markdown",
      "metadata": {
        "id": "lmMxOQ11Q4Fg"
      },
      "source": [
        "### Evaluate the trained model"
      ]
    },
    {
      "cell_type": "code",
      "execution_count": null,
      "metadata": {
        "id": "AwwXS427Q4Fg"
      },
      "outputs": [],
      "source": [
        "score = model6.evaluate(x_test_p, y_test_p, verbose=0)\n",
        "print(\"Test loss:\", score[0])\n",
        "print(\"Test accuracy:\", score[1])"
      ]
    },
    {
      "cell_type": "code",
      "source": [
        "raw_prediction = model6.predict(x_test_p)\n",
        "prediction = np.argmax(raw_prediction, axis=1)\n",
        "\n",
        "misclassified_indices = np.where(prediction != y_test)[0]\n",
        "\n",
        "for i in misclassified_indices[:3]:\n",
        "  print(f\"Index: {i}, Predicted: {prediction[i]}, True Label: {y_test[i]}\")\n",
        "  display(x_test[i])"
      ],
      "metadata": {
        "id": "qhVQVD_2R4S2"
      },
      "execution_count": null,
      "outputs": []
    }
  ],
  "metadata": {
    "accelerator": "GPU",
    "colab": {
      "provenance": [],
      "toc_visible": true,
      "gpuType": "T4"
    },
    "kernelspec": {
      "display_name": "Python 3",
      "name": "python3"
    },
    "language_info": {
      "codemirror_mode": {
        "name": "ipython",
        "version": 3
      },
      "file_extension": ".py",
      "mimetype": "text/x-python",
      "name": "python",
      "nbconvert_exporter": "python",
      "pygments_lexer": "ipython3",
      "version": "3.7.0"
    }
  },
  "nbformat": 4,
  "nbformat_minor": 0
}